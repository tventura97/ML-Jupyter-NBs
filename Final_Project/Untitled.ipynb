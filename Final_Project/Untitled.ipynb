{
 "cells": [
  {
   "cell_type": "code",
   "execution_count": 20,
   "metadata": {},
   "outputs": [
    {
     "name": "stdout",
     "output_type": "stream",
     "text": [
      "[['Albania' 'Algeria' 'American-Samoa' ... 'Zaire' 'Zambia' 'Zimbabwe']\n",
      " [3 4 6 ... 4 4 4]\n",
      " [1 1 3 ... 2 2 2]\n",
      " ...\n",
      " [0 0 0 ... 0 0 0]\n",
      " ['red' 'green' 'blue' ... 'green' 'green' 'green']\n",
      " ['red' 'white' 'red' ... 'green' 'brown' 'green']]\n"
     ]
    }
   ],
   "source": [
    "#Flag Dataset\n",
    "#load data\n",
    "import numpy as np\n",
    "import pandas as pd\n",
    "import sklearn\n",
    "\n",
    "\n",
    "flags = pd.read_csv('flag.data')\n",
    "print(np.array(flags).transpose())"
   ]
  },
  {
   "cell_type": "code",
   "execution_count": null,
   "metadata": {},
   "outputs": [],
   "source": [
    "#30 dimensions - Do PCA\n"
   ]
  }
 ],
 "metadata": {
  "kernelspec": {
   "display_name": "Python 3",
   "language": "python",
   "name": "python3"
  },
  "language_info": {
   "codemirror_mode": {
    "name": "ipython",
    "version": 3
   },
   "file_extension": ".py",
   "mimetype": "text/x-python",
   "name": "python",
   "nbconvert_exporter": "python",
   "pygments_lexer": "ipython3",
   "version": "3.7.1"
  }
 },
 "nbformat": 4,
 "nbformat_minor": 2
}
