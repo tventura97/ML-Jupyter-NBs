{
 "cells": [
  {
   "cell_type": "code",
   "execution_count": 148,
   "metadata": {},
   "outputs": [
    {
     "data": {
      "text/plain": [
       "300"
      ]
     },
     "execution_count": 148,
     "metadata": {},
     "output_type": "execute_result"
    }
   ],
   "source": [
    "#import data and stuff\n",
    "import numpy as np\n",
    "from numpy import linalg as lin\n",
    "import matplotlib.pyplot as plt\n",
    "import mpl_toolkits.mplot3d as m3d\n",
    "from mpl_toolkits.mplot3d import Axes3D\n",
    "import random\n",
    "from sklearn.datasets import load_digits\n",
    "import sklearn.decomposition as sk\n",
    "images, labels = load_digits(2, return_X_y = True)\n",
    "\n",
    "#Labeled training set\n",
    "training_images = images[:300]\n",
    "training_labels = labels[:300]\n",
    "\n",
    "#Labeled test set \n",
    "test_images = images[300:]\n",
    "test_labels = labels[300:]    \n",
    "\n",
    "training_images = training_images.transpose()\n",
    "len(training_images[0,:])"
   ]
  },
  {
   "cell_type": "code",
   "execution_count": 149,
   "metadata": {},
   "outputs": [],
   "source": [
    "\n",
    "#Calculate mean vector\n",
    "#each image is a column, each pixel is an entry in that column\n",
    "m = np.zeros((64,1))\n",
    "#for each row\n",
    "for i in range(len(training_images[:,0])):\n",
    "    m[i,0] = np.mean(training_images[i,:])\n",
    "    \n",
    "    \n",
    "for i in range(len(training_images[0,:])):\n",
    "    for j in range(len(m[:,0])):\n",
    "        training_images[j,i] = training_images[j,i] - m [j]\n",
    "#Figure out which rows are ones and which are zeros\n",
    "indices_0 = np.where(training_labels == 0)\n",
    "indices_1 = np.where(training_labels == 1)\n"
   ]
  },
  {
   "cell_type": "code",
   "execution_count": 150,
   "metadata": {},
   "outputs": [
    {
     "data": {
      "text/plain": [
       "(2, 300)"
      ]
     },
     "execution_count": 150,
     "metadata": {},
     "output_type": "execute_result"
    }
   ],
   "source": [
    "#Calculate principal components\n",
    "X = training_images @ training_images.transpose()\n",
    "vals, vecs = lin.eig(X)\n",
    "#Principal components\n",
    "PC = np.vstack((vecs[:,0], vecs[:,1]))\n",
    "# Calculate feature vectors\n",
    "feature_vectors = PC @ training_images\n",
    "feature_vectors.shape"
   ]
  },
  {
   "cell_type": "code",
   "execution_count": 151,
   "metadata": {
    "scrolled": true
   },
   "outputs": [
    {
     "data": {
      "text/plain": [
       "<matplotlib.collections.PathCollection at 0x2b66cc35940>"
      ]
     },
     "execution_count": 151,
     "metadata": {},
     "output_type": "execute_result"
    },
    {
     "data": {
      "image/png": "[encoded data removed]",
      "text/plain": [
       "<Figure size 432x288 with 1 Axes>"
      ]
     },
     "metadata": {
      "needs_background": "light"
     },
     "output_type": "display_data"
    }
   ],
   "source": [
    "#plotting zeros and ones\n",
    "zeros = feature_vectors.transpose()[indices_0]\n",
    "ones = feature_vectors.transpose()[indices_1]\n",
    "plt.scatter(zeros[:,0], zeros[:,1], color = 'red')\n",
    "plt.scatter(ones[:,0], ones[:,1], color = 'blue')\n"
   ]
  },
  {
   "cell_type": "code",
   "execution_count": 152,
   "metadata": {},
   "outputs": [],
   "source": [
    "def kNNClassify(feature_vectors, labels, data, k):\n",
    "    distances = np.zeros((1,len(feature_vectors[0,:])));\n",
    "    reference = np.vstack((distances,labels))\n",
    "    neighbors = []\n",
    "    for i in range(len(reference[0,:])):\n",
    "           reference[0,i] = np.sqrt((data[0] - feature_vectors[0,i])**2 + (data[1] - feature_vectors[1,i])**2)\n",
    "    \n",
    "    reference = reference[:, reference[0].argsort()]\n",
    "    for i in range(k):\n",
    "        neighbors.append(reference[-1,i])\n",
    "    return np.bincount(neighbors).argmax()"
   ]
  },
  {
   "cell_type": "code",
   "execution_count": 153,
   "metadata": {},
   "outputs": [
    {
     "name": "stdout",
     "output_type": "stream",
     "text": [
      "[0, 1, 1, 1, 1, 1, 0, 1, 0, 0, 1, 0, 1, 0, 1, 0, 0, 1, 1, 0, 0, 0, 1, 1, 0, 0, 1, 1, 1, 1, 1, 0, 1, 0, 0, 1, 0, 1, 0, 1, 0, 0, 1, 1, 0, 0, 0, 1, 1, 0, 0, 0, 1, 1, 1, 1, 1, 0, 1, 0]\n"
     ]
    }
   ],
   "source": [
    "class_labels = [];\n",
    "kNNClassify(feature_vectors,training_labels,PC @ test_images[1] , 5)\n",
    "PC @ test_images[1]\n",
    "#Classify data\n",
    "for i in range(len(test_images)):\n",
    "    class_labels.append(kNNClassify(feature_vectors,training_labels,PC @ test_images[i] , 5))\n",
    "print(class_labels)"
   ]
  },
  {
   "cell_type": "code",
   "execution_count": 154,
   "metadata": {},
   "outputs": [
    {
     "name": "stdout",
     "output_type": "stream",
     "text": [
      "0.0\n"
     ]
    }
   ],
   "source": [
    "#Calculate error\n",
    "error = 0\n",
    "for i in range (len(class_labels)):\n",
    "    if test_labels[i] != class_labels[i]:\n",
    "        error = error + 1\n",
    "        \n",
    "error = error/len(class_labels)\n",
    "print(error)\n",
    "#Looks like the error is 0"
   ]
  },
  {
   "cell_type": "code",
   "execution_count": 155,
   "metadata": {},
   "outputs": [
    {
     "data": {
      "text/plain": [
       "<matplotlib.collections.PathCollection at 0x2b66b0d66d8>"
      ]
     },
     "execution_count": 155,
     "metadata": {},
     "output_type": "execute_result"
    },
    {
     "data": {
      "image/png": "[encoded data removed]",
      "text/plain": [
       "<Figure size 432x288 with 1 Axes>"
      ]
     },
     "metadata": {
      "needs_background": "light"
     },
     "output_type": "display_data"
    }
   ],
   "source": [
    "#I calculated the error first just to see if there would be any black points. But, since the error is 0,\n",
    "#I can just plot all the points as blue\n",
    "\n",
    "#First transform them with the principal components\n",
    "test_image_features = PC @ test_images.transpose()\n",
    "#Plotting them on top of the training image features just to show that they were classified correctly\n",
    "#Also I'm changing the color of ones to yellow\n",
    "\n",
    "#Plot classified data\n",
    "plt.scatter(test_image_features[0,:], test_image_features[1,:], color ='blue')\n",
    "#Plot training data\n",
    "plt.scatter(zeros[:,0], zeros[:,1], color = 'red')\n",
    "plt.scatter(ones[:,0], ones[:,1], color = 'yellow')\n"
   ]
  },
  {
   "cell_type": "code",
   "execution_count": 156,
   "metadata": {},
   "outputs": [
    {
     "name": "stdout",
     "output_type": "stream",
     "text": [
      "19\n"
     ]
    },
    {
     "data": {
      "text/plain": [
       "(19, 300)"
      ]
     },
     "execution_count": 156,
     "metadata": {},
     "output_type": "execute_result"
    }
   ],
   "source": [
    "#kNN using higher dimensional features\n",
    "#We need to find k such that 95% of the variance is preserved. In other words, we want PCA_Error < 5%\n",
    "#Basically, we need to calculate the SVD of the data, and find k such that the sum from k + 1 to N of (sing_vals)^2 < 5\n",
    "\n",
    "#Calculate SVD of training_images\n",
    "u, s, vh = lin.svd(training_images)\n",
    "\n",
    "#frobenius norm of training_images ^ 2\n",
    "FN_b = lin.norm(training_images,'fro')**2\n",
    "\n",
    "captured_variation = 0;\n",
    "k = 0\n",
    "while(captured_variation < .95):\n",
    "    captured_variation = captured_variation + s[k]**2/FN_b\n",
    "    k = k+1\n",
    "    \n",
    "print(k)\n",
    "#We need 19 principal components\n",
    "#Define new feature vectors\n",
    "PC19 = vecs[:,0:19]\n",
    "feature_vectors19 = PC19.transpose() @ training_images\n",
    "feature_vectors19.shape"
   ]
  },
  {
   "cell_type": "code",
   "execution_count": 157,
   "metadata": {},
   "outputs": [],
   "source": [
    "def kNNClassify1(feature_vectors, labels, data, k):\n",
    "    distances = np.zeros((1,len(feature_vectors[0,:])));\n",
    "    reference = np.vstack((distances,labels))\n",
    "    neighbors = []\n",
    "    \n",
    "    for i in range(len(reference[0,:])):\n",
    "        sum = 0\n",
    "        for j in range(len(feature_vectors[:,0])):\n",
    "            sum = sum + (data[j] - feature_vectors[j,i])**2\n",
    "        reference[0,i] = np.sqrt(sum)\n",
    "    \n",
    "    reference = reference[:, reference[0].argsort()]\n",
    "    for i in range(k):\n",
    "        neighbors.append(reference[-1,i])\n",
    "    return np.bincount(neighbors).argmax()"
   ]
  },
  {
   "cell_type": "code",
   "execution_count": 176,
   "metadata": {},
   "outputs": [
    {
     "name": "stdout",
     "output_type": "stream",
     "text": [
      "[0, 0, 0, 0, 0]\n"
     ]
    }
   ],
   "source": [
    "classified_labels19 = np.zeros((10, len(test_labels)))\n",
    "for k in range(1,10,2):\n",
    "    for i in range(len(test_images)):\n",
    "        classified_labels19[k, i] = (kNNClassify1(feature_vectors19, training_labels, PC19.transpose() @ test_images[i], k))\n",
    "\n",
    "#Calculate error\n",
    "\n",
    "error = []\n",
    "for k in range(len(classified_labels19[:,0])):\n",
    "    error_temp = 0\n",
    "    for i in range (len(classified_labels19)):\n",
    "        if test_labels[i] != classified_labels19[k,i]:\n",
    "            error_temp = error_temp + 1\n",
    "    error.append(error_temp)\n",
    "    \n",
    "#Average error vector\n",
    "#Get only odd values because the even entries are garbage\n",
    "error = error[1::2]\n",
    "print(error)"
   ]
  },
  {
   "cell_type": "code",
   "execution_count": 180,
   "metadata": {},
   "outputs": [
    {
     "data": {
      "text/plain": [
       "[<matplotlib.lines.Line2D at 0x2b66dcd3b38>]"
      ]
     },
     "execution_count": 180,
     "metadata": {},
     "output_type": "execute_result"
    },
    {
     "data": {
      "image/png": "[encoded data removed]",
      "text/plain": [
       "<Figure size 432x288 with 1 Axes>"
      ]
     },
     "metadata": {
      "needs_background": "light"
     },
     "output_type": "display_data"
    }
   ],
   "source": [
    "#The assignment says to plot error vs k. \n",
    "#It's just gonna be a horizontal line since nothing was classified incorrectly\n",
    "\n",
    "plt.plot([1, 3, 5, 7, 9], error)\n",
    "\n",
    "#I would recommend k = 1 for this particular problem. Although, that's probably not good enough for most kNN problems. \n",
    "#95% of the info was preserved and 0 and 1 are different enough that it's difficult to misclassiy them, so no images\n",
    "#were mis-classified in this case"
   ]
  },
  {
   "cell_type": "code",
   "execution_count": null,
   "metadata": {},
   "outputs": [],
   "source": []
  }
 ],
 "metadata": {
  "kernelspec": {
   "display_name": "Python 3",
   "language": "python",
   "name": "python3"
  },
  "language_info": {
   "codemirror_mode": {
    "name": "ipython",
    "version": 3
   },
   "file_extension": ".py",
   "mimetype": "text/x-python",
   "name": "python",
   "nbconvert_exporter": "python",
   "pygments_lexer": "ipython3",
   "version": "3.7.1"
  }
 },
 "nbformat": 4,
 "nbformat_minor": 2
}
