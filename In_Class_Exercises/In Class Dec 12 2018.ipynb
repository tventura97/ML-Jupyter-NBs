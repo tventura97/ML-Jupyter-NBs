{
 "cells": [
  {
   "cell_type": "code",
   "execution_count": 72,
   "metadata": {},
   "outputs": [],
   "source": [
    "import sklearn \n",
    "import numpy as np\n",
    "from numpy.linalg import inv\n",
    "import matplotlib.pyplot as plt\n",
    "from sklearn import datasets\n",
    "from math import sqrt"
   ]
  },
  {
   "cell_type": "code",
   "execution_count": 81,
   "metadata": {},
   "outputs": [],
   "source": [
    "#Step 1: create 3 clusters of data\n",
    "#j = 1: red, j = 2: green, j = 3: blue\n",
    "\n",
    "#Generate Data\n",
    "mu1 = [1, 0]\n",
    "mu2 = [-1, 0]\n",
    "mu3 = [0, -10]\n",
    "\n",
    "U = np.asarray([[1/sqrt(2), 1/sqrt(2)], [-1/sqrt(2), 1/sqrt(2)]])\n",
    "lam1 = np.asarray([[4,0], [0,1]])\n",
    "lam2 = np.asarray([[1, 0], [0, 5]])\n",
    "\n",
    "sig1 = U @ lam1 @ U.transpose()\n",
    "sig2 = U @ lam2 @ U.transpose()\n",
    "sig3 = np.identity(2)\n",
    "\n",
    "c1 = np.random.multivariate_normal(mu1, sig1, 1000)\n",
    "c2 = np.random.multivariate_normal(mu2, sig2, 1000)\n",
    "c3 = np.random.multivariate_normal(mu3, sig3, 1000)"
   ]
  },
  {
   "cell_type": "code",
   "execution_count": 82,
   "metadata": {},
   "outputs": [
    {
     "data": {
      "image/png": "[encoded data removed]",
      "text/plain": [
       "<Figure size 432x288 with 1 Axes>"
      ]
     },
     "metadata": {
      "needs_background": "light"
     },
     "output_type": "display_data"
    }
   ],
   "source": [
    "plt.scatter(c1[:,0], c1[:,1], color = 'red')\n",
    "plt.scatter(c2[:,0], c2[:,1], color = 'green')\n",
    "plt.scatter(c3[:,0], c3[:,1], color = 'blue')\n",
    "plt.ylim((-15,15))\n",
    "plt.xlim((-15,15))\n",
    "plt.show()"
   ]
  },
  {
   "cell_type": "code",
   "execution_count": 113,
   "metadata": {},
   "outputs": [],
   "source": [
    "#k means \n",
    "#distance function using Euclidean Distance (2D)\n",
    "def getDistance(p1, p2):\n",
    "    return sqrt((p1[0] - p2[0])**2 + (p1[1] - p2[1])**2)\n",
    "\n",
    "#calculate centroid\n",
    "#Make sure C has samples in rows\n",
    "def getCentroid(C):\n",
    "    return np.array([1,1])\n",
    "    #return np.array(np.mean(C[0,:]), np.mean(C[1,:]))"
   ]
  },
  {
   "cell_type": "code",
   "execution_count": 104,
   "metadata": {},
   "outputs": [],
   "source": [
    "#k means function\n",
    "#Again make sure it's samples in columns and each row is a dimension\n",
    "def kMeans3(C, maxIters, tol):\n",
    "    #C is data, K is number of clusters\n",
    "    #initialize 3 clusters randomly\n",
    "    np.random.shuffle(C.transpose())\n",
    "    Cs = np.array_split(C.transpose(),3)\n",
    "    C1 = Cs[0]\n",
    "    C2 = Cs[1]\n",
    "    C3 = Cs[2]\n",
    "    #Random clusters then get centroids\n",
    "    u1 = getCentroid(C1)\n",
    "    u2 = getCentroid(C2)\n",
    "    u3 = getCentroid(C3)\n",
    "\n",
    "    u1_prev = 0\n",
    "    u2_prev = 0\n",
    "    u3_prev = 0\n",
    "    iters = 0\n",
    "    #Stop when clusters don't change\n",
    "    \n",
    "    \n",
    "    while abs(np.linalg.norm(np.array([u1 - u1_prev, u2-u2_prev, u3-u3_prev]))) > tol or iters > maxIters:\n",
    "        \n",
    "        u1_prev = u1\n",
    "        u2_prev = u2\n",
    "        u3_prev = u3\n",
    "        d1 = []\n",
    "        d2 = []\n",
    "        d3 = []\n",
    "\n",
    "        c1_n = []\n",
    "        c2_n = []\n",
    "        c3_n = []\n",
    "        #Get distance vectors\n",
    "        for i in range(len(C[0])):\n",
    "            d1.append(np.linalg.norm(C[:,i], u1))\n",
    "            d2.append(np.linalg.norm(C[:,i], u2))\n",
    "            d3.append(np.linalg.norm(C[:,i], u3))\n",
    "            \n",
    "        distances = np.vstack((d1,d2,d3))\n",
    "        #Generate new clusters\n",
    "\n",
    "        for i in range(len(distances[0])):\n",
    "            index = list(distances[:,i]).index(min(distances[:,i]))\n",
    "            if index == 1:\n",
    "                c1_n.append(C[:,i])\n",
    "            elif index == 2:\n",
    "                c2_n.append(C[:,i])\n",
    "            elif index == 3:\n",
    "                c3_n.append(C[:,i])\n",
    "        \n",
    "        C1 = c1_n\n",
    "        C2 = c2_n\n",
    "        C3 = c3_n\n",
    "        print(C1)\n",
    "        #Calculate new centroids\n",
    "        \n",
    "        u1 = getCentroid(C1)\n",
    "        u2 = getCentroid(C2)\n",
    "        u3 = getCentroid(C3)\n",
    "        \n",
    "        iters += 1\n",
    "    \n",
    "    return (u1,u2,u3)\n",
    "    "
   ]
  },
  {
   "cell_type": "code",
   "execution_count": 109,
   "metadata": {},
   "outputs": [],
   "source": [
    "_C = np.vstack((c1,c2,c3))\n"
   ]
  },
  {
   "cell_type": "code",
   "execution_count": 114,
   "metadata": {},
   "outputs": [
    {
     "name": "stderr",
     "output_type": "stream",
     "text": [
      "/home/tristan/Projects/ML-Jupyter-NBs/MLClass/lib/python3.7/site-packages/numpy/linalg/linalg.py:2352: FutureWarning: elementwise comparison failed; returning scalar instead, but in the future will perform elementwise comparison\n",
      "  (ord in ('f', 'fro') and ndim == 2) or\n"
     ]
    },
    {
     "ename": "ValueError",
     "evalue": "The truth value of an array with more than one element is ambiguous. Use a.any() or a.all()",
     "output_type": "error",
     "traceback": [
      "\u001b[0;31m---------------------------------------------------------------------------\u001b[0m",
      "\u001b[0;31mValueError\u001b[0m                                Traceback (most recent call last)",
      "\u001b[0;32m<ipython-input-114-9c7262707d2b>\u001b[0m in \u001b[0;36m<module>\u001b[0;34m\u001b[0m\n\u001b[0;32m----> 1\u001b[0;31m \u001b[0mprint\u001b[0m\u001b[0;34m(\u001b[0m\u001b[0mkMeans3\u001b[0m\u001b[0;34m(\u001b[0m\u001b[0m_C\u001b[0m\u001b[0;34m.\u001b[0m\u001b[0mtranspose\u001b[0m\u001b[0;34m(\u001b[0m\u001b[0;34m)\u001b[0m\u001b[0;34m,\u001b[0m \u001b[0;36m10\u001b[0m\u001b[0;34m,\u001b[0m \u001b[0;36m0.1\u001b[0m\u001b[0;34m)\u001b[0m\u001b[0;34m)\u001b[0m\u001b[0;34m\u001b[0m\u001b[0;34m\u001b[0m\u001b[0m\n\u001b[0m",
      "\u001b[0;32m<ipython-input-104-9e690ea3d88c>\u001b[0m in \u001b[0;36mkMeans3\u001b[0;34m(C, maxIters, tol)\u001b[0m\n\u001b[1;32m     35\u001b[0m         \u001b[0;31m#Get distance vectors\u001b[0m\u001b[0;34m\u001b[0m\u001b[0;34m\u001b[0m\u001b[0;34m\u001b[0m\u001b[0m\n\u001b[1;32m     36\u001b[0m         \u001b[0;32mfor\u001b[0m \u001b[0mi\u001b[0m \u001b[0;32min\u001b[0m \u001b[0mrange\u001b[0m\u001b[0;34m(\u001b[0m\u001b[0mlen\u001b[0m\u001b[0;34m(\u001b[0m\u001b[0mC\u001b[0m\u001b[0;34m[\u001b[0m\u001b[0;36m0\u001b[0m\u001b[0;34m]\u001b[0m\u001b[0;34m)\u001b[0m\u001b[0;34m)\u001b[0m\u001b[0;34m:\u001b[0m\u001b[0;34m\u001b[0m\u001b[0;34m\u001b[0m\u001b[0m\n\u001b[0;32m---> 37\u001b[0;31m             \u001b[0md1\u001b[0m\u001b[0;34m.\u001b[0m\u001b[0mappend\u001b[0m\u001b[0;34m(\u001b[0m\u001b[0mnp\u001b[0m\u001b[0;34m.\u001b[0m\u001b[0mlinalg\u001b[0m\u001b[0;34m.\u001b[0m\u001b[0mnorm\u001b[0m\u001b[0;34m(\u001b[0m\u001b[0mC\u001b[0m\u001b[0;34m[\u001b[0m\u001b[0;34m:\u001b[0m\u001b[0;34m,\u001b[0m\u001b[0mi\u001b[0m\u001b[0;34m]\u001b[0m\u001b[0;34m,\u001b[0m \u001b[0mu1\u001b[0m\u001b[0;34m)\u001b[0m\u001b[0;34m)\u001b[0m\u001b[0;34m\u001b[0m\u001b[0;34m\u001b[0m\u001b[0m\n\u001b[0m\u001b[1;32m     38\u001b[0m             \u001b[0md2\u001b[0m\u001b[0;34m.\u001b[0m\u001b[0mappend\u001b[0m\u001b[0;34m(\u001b[0m\u001b[0mnp\u001b[0m\u001b[0;34m.\u001b[0m\u001b[0mlinalg\u001b[0m\u001b[0;34m.\u001b[0m\u001b[0mnorm\u001b[0m\u001b[0;34m(\u001b[0m\u001b[0mC\u001b[0m\u001b[0;34m[\u001b[0m\u001b[0;34m:\u001b[0m\u001b[0;34m,\u001b[0m\u001b[0mi\u001b[0m\u001b[0;34m]\u001b[0m\u001b[0;34m,\u001b[0m \u001b[0mu2\u001b[0m\u001b[0;34m)\u001b[0m\u001b[0;34m)\u001b[0m\u001b[0;34m\u001b[0m\u001b[0;34m\u001b[0m\u001b[0m\n\u001b[1;32m     39\u001b[0m             \u001b[0md3\u001b[0m\u001b[0;34m.\u001b[0m\u001b[0mappend\u001b[0m\u001b[0;34m(\u001b[0m\u001b[0mnp\u001b[0m\u001b[0;34m.\u001b[0m\u001b[0mlinalg\u001b[0m\u001b[0;34m.\u001b[0m\u001b[0mnorm\u001b[0m\u001b[0;34m(\u001b[0m\u001b[0mC\u001b[0m\u001b[0;34m[\u001b[0m\u001b[0;34m:\u001b[0m\u001b[0;34m,\u001b[0m\u001b[0mi\u001b[0m\u001b[0;34m]\u001b[0m\u001b[0;34m,\u001b[0m \u001b[0mu3\u001b[0m\u001b[0;34m)\u001b[0m\u001b[0;34m)\u001b[0m\u001b[0;34m\u001b[0m\u001b[0;34m\u001b[0m\u001b[0m\n",
      "\u001b[0;32m~/Projects/ML-Jupyter-NBs/MLClass/lib/python3.7/site-packages/numpy/linalg/linalg.py\u001b[0m in \u001b[0;36mnorm\u001b[0;34m(x, ord, axis, keepdims)\u001b[0m\n\u001b[1;32m   2351\u001b[0m         if ((ord is None) or\n\u001b[1;32m   2352\u001b[0m             \u001b[0;34m(\u001b[0m\u001b[0mord\u001b[0m \u001b[0;32min\u001b[0m \u001b[0;34m(\u001b[0m\u001b[0;34m'f'\u001b[0m\u001b[0;34m,\u001b[0m \u001b[0;34m'fro'\u001b[0m\u001b[0;34m)\u001b[0m \u001b[0;32mand\u001b[0m \u001b[0mndim\u001b[0m \u001b[0;34m==\u001b[0m \u001b[0;36m2\u001b[0m\u001b[0;34m)\u001b[0m \u001b[0;32mor\u001b[0m\u001b[0;34m\u001b[0m\u001b[0;34m\u001b[0m\u001b[0m\n\u001b[0;32m-> 2353\u001b[0;31m             (ord == 2 and ndim == 1)):\n\u001b[0m\u001b[1;32m   2354\u001b[0m \u001b[0;34m\u001b[0m\u001b[0m\n\u001b[1;32m   2355\u001b[0m             \u001b[0mx\u001b[0m \u001b[0;34m=\u001b[0m \u001b[0mx\u001b[0m\u001b[0;34m.\u001b[0m\u001b[0mravel\u001b[0m\u001b[0;34m(\u001b[0m\u001b[0morder\u001b[0m\u001b[0;34m=\u001b[0m\u001b[0;34m'K'\u001b[0m\u001b[0;34m)\u001b[0m\u001b[0;34m\u001b[0m\u001b[0;34m\u001b[0m\u001b[0m\n",
      "\u001b[0;31mValueError\u001b[0m: The truth value of an array with more than one element is ambiguous. Use a.any() or a.all()"
     ]
    }
   ],
   "source": [
    "print(kMeans3(_C.transpose(), 10, 0.1))"
   ]
  }
 ],
 "metadata": {
  "kernelspec": {
   "display_name": "Python 3",
   "language": "python",
   "name": "python3"
  },
  "language_info": {
   "codemirror_mode": {
    "name": "ipython",
    "version": 3
   },
   "file_extension": ".py",
   "mimetype": "text/x-python",
   "name": "python",
   "nbconvert_exporter": "python",
   "pygments_lexer": "ipython3",
   "version": "3.7.1"
  }
 },
 "nbformat": 4,
 "nbformat_minor": 2
}
