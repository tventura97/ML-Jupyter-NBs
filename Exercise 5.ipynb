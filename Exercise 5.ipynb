{
 "cells": [
  {
   "cell_type": "code",
   "execution_count": 98,
   "metadata": {},
   "outputs": [],
   "source": [
    "from sklearn.datasets import load_wine\n",
    "from sklearn.naive_bayes import GaussianNB\n",
    "import numpy as np\n",
    "from numpy import std\n",
    "from numpy import mean as mn\n",
    "from numpy.random import shuffle\n",
    "import matplotlib.pyplot as plt\n",
    "\n",
    "\n",
    "#Standardization of Data\n",
    "#Center wine dataset\n",
    "samples, labels = load_wine(return_X_y=True)\n",
    "mean = np.mean(samples, axis = 0)\n",
    "samples = np.asarray([sample - mean for sample in samples]).transpose()\n"
   ]
  },
  {
   "cell_type": "code",
   "execution_count": 99,
   "metadata": {},
   "outputs": [],
   "source": [
    "#Compute PCA\n",
    "numDims = 2\n",
    "eigs, vecs = np.linalg.eig(samples @ samples.transpose())\n",
    "PC = np.vstack(vecs[0:numDims])\n",
    "features = PC @ samples"
   ]
  },
  {
   "cell_type": "code",
   "execution_count": 100,
   "metadata": {
    "scrolled": true
   },
   "outputs": [
    {
     "data": {
      "image/png": "[encoded data removed]",
      "text/plain": [
       "<Figure size 432x288 with 1 Axes>"
      ]
     },
     "metadata": {
      "needs_background": "light"
     },
     "output_type": "display_data"
    }
   ],
   "source": [
    "#Plot centered PCA features\n",
    "zeros = features.transpose()[np.where(labels == 0)] \n",
    "ones = features.transpose()[np.where(labels == 1)] \n",
    "twos = features.transpose()[np.where(labels == 2)] \n",
    "plt.scatter(zeros[:,0], zeros[:,1], color = 'red', marker = \"s\")\n",
    "plt.scatter(ones[:,0], ones[:,1], color = 'green', marker = \"^\")\n",
    "plt.scatter(twos[:,0], twos[:,1], color = 'blue', marker = \"o\")\n",
    "plt.show()"
   ]
  },
  {
   "cell_type": "code",
   "execution_count": 101,
   "metadata": {},
   "outputs": [],
   "source": [
    "#Normalize wine dataset & calculate PCA\n",
    "std_dev = np.std(samples,axis=1)\n",
    "\n",
    "for i in range(len((samples.transpose()))):\n",
    "    samples.transpose()[i] = np.divide(samples.transpose()[i],std_dev)    "
   ]
  },
  {
   "cell_type": "code",
   "execution_count": 102,
   "metadata": {},
   "outputs": [],
   "source": [
    "eigs_n, vecs_n = np.linalg.eig(samples @ samples.transpose())\n",
    "PC_n = np.vstack(vecs_n[0:numDims])\n",
    "features_n = PC_n @ samples"
   ]
  },
  {
   "cell_type": "code",
   "execution_count": 103,
   "metadata": {},
   "outputs": [
    {
     "data": {
      "image/png": "[encoded data removed]",
      "text/plain": [
       "<Figure size 432x288 with 1 Axes>"
      ]
     },
     "metadata": {
      "needs_background": "light"
     },
     "output_type": "display_data"
    }
   ],
   "source": [
    "zeros_n = features_n.transpose()[np.where(labels == 0)] \n",
    "ones_n = features_n.transpose()[np.where(labels == 1)] \n",
    "twos_n = features_n.transpose()[np.where(labels == 2)] \n",
    "plt.scatter(zeros_n[:,0], zeros_n[:,1], color = 'red', marker = \"s\")\n",
    "plt.scatter(ones_n[:,0], ones_n[:,1], color = 'green', marker = \"^\")\n",
    "plt.scatter(twos_n[:,0], twos_n[:,1], color = 'blue', marker = \"o\")\n",
    "plt.show()"
   ]
  },
  {
   "cell_type": "code",
   "execution_count": 104,
   "metadata": {},
   "outputs": [],
   "source": [
    "#There is more overlap between the classes, so the PCA features of only\n",
    "#the mean-centered data would lead to better classification performance"
   ]
  },
  {
   "cell_type": "code",
   "execution_count": 116,
   "metadata": {},
   "outputs": [],
   "source": [
    "acc_mean = list()\n",
    "acc_std = list()"
   ]
  },
  {
   "cell_type": "code",
   "execution_count": 117,
   "metadata": {},
   "outputs": [
    {
     "name": "stdout",
     "output_type": "stream",
     "text": [
      "[0.8333333333333334, 0.8055555555555556, 0.75, 0.6857142857142857, 0.8285714285714286]\n"
     ]
    }
   ],
   "source": [
    "k = 5\n",
    "#Case 1\n",
    "data = np.vstack((features, labels))\n",
    "shuffle(data.transpose())\n",
    "data.transpose()\n",
    "feat = np.array_split(data, k, 1)\n",
    "accuracy_centered = []\n",
    "for i in range(0, k):\n",
    "    temp_array = []\n",
    "    for j in range(0,k):\n",
    "        if i == j:\n",
    "            test = feat[j]\n",
    "        else:\n",
    "            temp_array.append(feat[j])\n",
    "    NB = GaussianNB()\n",
    "    for train in temp_array:\n",
    "        #print(train[0:2,:].transpose().shape, train[2,:].shape)\n",
    "        NB.partial_fit(train[0:2,:].transpose(), train[2,:],classes=np.unique(train[2,:]))\n",
    "    accuracy_centered.append(NB.score(test[0:2,:].transpose(), test[2,:]))\n",
    "\n",
    "acc_mean.append(mn(accuracy_centered))\n",
    "acc_std.append(round(std(accuracy_centered)**2,3))\n",
    "\n",
    "print(accuracy_centered)"
   ]
  },
  {
   "cell_type": "code",
   "execution_count": 118,
   "metadata": {},
   "outputs": [
    {
     "name": "stdout",
     "output_type": "stream",
     "text": [
      "[0.5, 0.5555555555555556, 0.5833333333333334, 0.6285714285714286, 0.5714285714285714]\n"
     ]
    }
   ],
   "source": [
    "k = 5\n",
    "#Case 2\n",
    "data = np.vstack((features_n, labels))\n",
    "shuffle(data.transpose())\n",
    "data.transpose()\n",
    "feat = np.array_split(data, k, 1)\n",
    "accuracy_normalized = []\n",
    "for i in range(0, k):\n",
    "    temp_array = []\n",
    "    for j in range(0,k):\n",
    "        if i == j:\n",
    "            test = feat[j]\n",
    "        else:\n",
    "            temp_array.append(feat[j])\n",
    "    NB = GaussianNB()\n",
    "    for train in temp_array:\n",
    "        #print(train[0:2,:].transpose().shape, train[2,:].shape)\n",
    "        NB.partial_fit(train[0:2,:].transpose(), train[2,:],classes=np.unique(train[2,:]))\n",
    "    accuracy_normalized.append(NB.score(test[0:2,:].transpose(), test[2,:]))\n",
    "acc_mean.append(mn(accuracy_normalized))\n",
    "acc_std.append(round(std(accuracy_normalized)**2,3))\n",
    "print(accuracy_normalized)"
   ]
  },
  {
   "cell_type": "code",
   "execution_count": 119,
   "metadata": {},
   "outputs": [
    {
     "name": "stdout",
     "output_type": "stream",
     "text": [
      "[0.5, 0.5, 0.5833333333333334, 0.5142857142857142, 0.5714285714285714]\n"
     ]
    }
   ],
   "source": [
    "k = 5\n",
    "#Case 3\n",
    "data = np.vstack((features_n, labels))\n",
    "shuffle(data.transpose())\n",
    "data.transpose()\n",
    "feat = np.array_split(data, k, 1)\n",
    "accuracy_normalized = []\n",
    "for i in range(0, k):\n",
    "    temp_array = []\n",
    "    for j in range(0,k):\n",
    "        if i == j:\n",
    "            test = feat[j]\n",
    "        else:\n",
    "            temp_array.append(feat[j])\n",
    "    NB = GaussianNB()\n",
    "    for train in temp_array:\n",
    "        #print(train[0:2,:].transpose().shape, train[2,:].shape)\n",
    "        NB.partial_fit(train[0:2,:].transpose(), train[2,:],classes=np.unique(train[2,:]))\n",
    "    accuracy_normalized.append(NB.score(test[0:2,:].transpose(), test[2,:]))\n",
    "acc_mean.append(mn(accuracy_normalized))\n",
    "acc_std.append(round(std(accuracy_normalized)**2,3))\n",
    "print(accuracy_normalized)"
   ]
  },
  {
   "cell_type": "code",
   "execution_count": 121,
   "metadata": {},
   "outputs": [
    {
     "name": "stdout",
     "output_type": "stream",
     "text": [
      "[0.7806349206349206, 0.5677777777777777, 0.5338095238095238]\n",
      "[0.003, 0.002, 0.001]\n"
     ]
    }
   ],
   "source": [
    "print(acc_mean)\n",
    "print(acc_std)\n",
    "#Case 1 had the highest average accuracy and the lowest variance,\n",
    "#Case 2 had the second highest avg accuracy and second lowest var\n",
    "#Case 3 had the worst accuracy and largest variance"
   ]
  },
  {
   "cell_type": "code",
   "execution_count": null,
   "metadata": {},
   "outputs": [],
   "source": []
  }
 ],
 "metadata": {
  "kernelspec": {
   "display_name": "Python 3",
   "language": "python",
   "name": "python3"
  },
  "language_info": {
   "codemirror_mode": {
    "name": "ipython",
    "version": 3
   },
   "file_extension": ".py",
   "mimetype": "text/x-python",
   "name": "python",
   "nbconvert_exporter": "python",
   "pygments_lexer": "ipython3",
   "version": "3.7.1"
  }
 },
 "nbformat": 4,
 "nbformat_minor": 2
}
